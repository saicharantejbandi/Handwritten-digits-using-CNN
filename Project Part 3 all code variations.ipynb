{
  "nbformat": 4,
  "nbformat_minor": 0,
  "metadata": {
    "colab": {
      "name": "Untitled2.ipynb",
      "provenance": []
    },
    "kernelspec": {
      "name": "python3",
      "display_name": "Python 3"
    }
  },
  "cells": [
    {
      "cell_type": "code",
      "metadata": {
        "id": "Ll6vT7hA8A5C",
        "colab_type": "code",
        "colab": {
          "base_uri": "https://localhost:8080/",
          "height": 775
        },
        "outputId": "02e4d951-1f78-4fe6-d0a2-a2edb640b8d2"
      },
      "source": [
        "#baselinecode\n",
        "\n",
        "import keras\n",
        "from keras.datasets import mnist\n",
        "from keras.models import Sequential\n",
        "from keras.layers import Dense, Dropout, Flatten\n",
        "from keras.layers import Conv2D, MaxPooling2D\n",
        "from keras import backend as K\n",
        "import matplotlib.pyplot as plt\n",
        "\n",
        "\n",
        "batch_size = 128\n",
        "num_classes = 10\n",
        "epochs = 12\n",
        "\n",
        "# input image dimensions\n",
        "img_rows, img_cols = 28, 28\n",
        "\n",
        "# the data, split between train and test sets\n",
        "(x_train, y_train), (x_test, y_test) = mnist.load_data()\n",
        "\n",
        "if K.image_data_format() == 'channels_first':\n",
        "    x_train = x_train.reshape(x_train.shape[0], 1, img_rows, img_cols)\n",
        "    x_test = x_test.reshape(x_test.shape[0], 1, img_rows, img_cols)\n",
        "    input_shape = (1, img_rows, img_cols)\n",
        "else:\n",
        "    x_train = x_train.reshape(x_train.shape[0], img_rows, img_cols, 1)\n",
        "    x_test = x_test.reshape(x_test.shape[0], img_rows, img_cols, 1)\n",
        "    input_shape = (img_rows, img_cols, 1)\n",
        "\n",
        "x_train = x_train.astype('float32')\n",
        "x_test = x_test.astype('float32')\n",
        "x_train /= 255\n",
        "x_test /= 255\n",
        "print('x_train shape:', x_train.shape)\n",
        "print(x_train.shape[0], 'train samples')\n",
        "print(x_test.shape[0], 'test samples')\n",
        "\n",
        "# convert class vectors to binary class matrices\n",
        "y_train = keras.utils.to_categorical(y_train, num_classes)\n",
        "y_test = keras.utils.to_categorical(y_test, num_classes)\n",
        "\n",
        "model = Sequential()\n",
        "model.add(Conv2D(6, kernel_size=(3, 3),\n",
        "                 activation='relu',\n",
        "                 input_shape=input_shape))\n",
        "model.add(MaxPooling2D(pool_size=(2, 2)))\n",
        "model.add(Conv2D(16, (3, 3), activation='relu'))\n",
        "model.add(MaxPooling2D(pool_size=(2, 2)))\n",
        "model.add(Flatten())\n",
        "model.add(Dense(120, activation='relu'))\n",
        "model.add(Dense(84, activation='relu'))\n",
        "\n",
        "model.add(Dense(num_classes, activation='softmax'))\n",
        "\n",
        "# https://keras.io/optimizers/ \n",
        "model.compile(loss=keras.losses.categorical_crossentropy,\n",
        "              optimizer=keras.optimizers.Adadelta(lr=0.1, rho=0.95, epsilon=None, decay=0.0),\n",
        "              metrics=['accuracy'])\n",
        "#saved the model in hist\n",
        "hist=model.fit(x_train, y_train,\n",
        "          batch_size=batch_size,\n",
        "          epochs=epochs,\n",
        "          verbose=1,\n",
        "          validation_data=(x_test, y_test))\n",
        "score = model.evaluate(x_test, y_test, verbose=0)\n",
        "fig=plt.figure()\n",
        "\n",
        "ax=plt.subplot(111)\n",
        "\n",
        "ax.plot((hist.history['loss']),label='Training Loss') #plotting training loss from hist\n",
        "\n",
        "ax.plot((hist.history['val_loss']),label='Testing Loss')  #plotting testing loss from hist\n",
        "\n",
        "\n",
        "print('Test loss:', score[0])\n",
        "print('Test accuracy:', score[1])\n"
      ],
      "execution_count": 4,
      "outputs": [
        {
          "output_type": "stream",
          "text": [
            "x_train shape: (60000, 28, 28, 1)\n",
            "60000 train samples\n",
            "10000 test samples\n",
            "Train on 60000 samples, validate on 10000 samples\n",
            "Epoch 1/12\n",
            "60000/60000 [==============================] - 20s 338us/step - loss: 0.8418 - acc: 0.7724 - val_loss: 0.2442 - val_acc: 0.9274\n",
            "Epoch 2/12\n",
            "60000/60000 [==============================] - 20s 329us/step - loss: 0.2056 - acc: 0.9383 - val_loss: 0.1633 - val_acc: 0.9549\n",
            "Epoch 3/12\n",
            "60000/60000 [==============================] - 20s 330us/step - loss: 0.1581 - acc: 0.9522 - val_loss: 0.1252 - val_acc: 0.9623\n",
            "Epoch 4/12\n",
            "60000/60000 [==============================] - 20s 327us/step - loss: 0.1315 - acc: 0.9604 - val_loss: 0.1085 - val_acc: 0.9679\n",
            "Epoch 5/12\n",
            "60000/60000 [==============================] - 20s 330us/step - loss: 0.1150 - acc: 0.9649 - val_loss: 0.0948 - val_acc: 0.9723\n",
            "Epoch 6/12\n",
            "60000/60000 [==============================] - 20s 327us/step - loss: 0.1016 - acc: 0.9691 - val_loss: 0.0853 - val_acc: 0.9746\n",
            "Epoch 7/12\n",
            "60000/60000 [==============================] - 19s 324us/step - loss: 0.0925 - acc: 0.9722 - val_loss: 0.0800 - val_acc: 0.9760\n",
            "Epoch 8/12\n",
            "60000/60000 [==============================] - 19s 323us/step - loss: 0.0854 - acc: 0.9740 - val_loss: 0.0732 - val_acc: 0.9766\n",
            "Epoch 9/12\n",
            "60000/60000 [==============================] - 21s 342us/step - loss: 0.0789 - acc: 0.9761 - val_loss: 0.0672 - val_acc: 0.9789\n",
            "Epoch 10/12\n",
            "60000/60000 [==============================] - 19s 320us/step - loss: 0.0742 - acc: 0.9776 - val_loss: 0.0658 - val_acc: 0.9782\n",
            "Epoch 11/12\n",
            "60000/60000 [==============================] - 19s 318us/step - loss: 0.0698 - acc: 0.9787 - val_loss: 0.0634 - val_acc: 0.9803\n",
            "Epoch 12/12\n",
            "60000/60000 [==============================] - 19s 319us/step - loss: 0.0655 - acc: 0.9805 - val_loss: 0.0605 - val_acc: 0.9811\n",
            "Test loss: 0.06049867564560846\n",
            "Test accuracy: 0.9811\n"
          ],
          "name": "stdout"
        },
        {
          "output_type": "display_data",
          "data": {
            "image/png": "[encoded data removed]",
            "text/plain": [
              "<Figure size 432x288 with 1 Axes>"
            ]
          },
          "metadata": {
            "tags": []
          }
        }
      ]
    },
    {
      "cell_type": "markdown",
      "metadata": {
        "id": "FszOgAM1OTrw",
        "colab_type": "text"
      },
      "source": [
        ""
      ]
    },
    {
      "cell_type": "markdown",
      "metadata": {
        "id": "Y-kjbAVgOO6C",
        "colab_type": "text"
      },
      "source": [
        ""
      ]
    },
    {
      "cell_type": "markdown",
      "metadata": {
        "id": "gRxIGVla9s7v",
        "colab_type": "text"
      },
      "source": [
        "Changing Kernel Size to 5X5\n"
      ]
    },
    {
      "cell_type": "code",
      "metadata": {
        "id": "3DU4W8KR9x5i",
        "colab_type": "code",
        "colab": {
          "base_uri": "https://localhost:8080/",
          "height": 805
        },
        "outputId": "3b8bb262-e281-4e9c-f3c4-205fd61ff173"
      },
      "source": [
        "import keras\n",
        "from keras.datasets import mnist\n",
        "from keras.models import Sequential\n",
        "from keras.layers import Dense, Dropout, Flatten\n",
        "from keras.layers import Conv2D, MaxPooling2D\n",
        "from keras import backend as K\n",
        "import matplotlib.pyplot as plt\n",
        "\n",
        "\n",
        "batch_size = 128\n",
        "num_classes = 10\n",
        "epochs = 12\n",
        "\n",
        "# input image dimensions\n",
        "img_rows, img_cols = 28, 28\n",
        "\n",
        "# the data, split between train and test sets\n",
        "(x_train, y_train), (x_test, y_test) = mnist.load_data()\n",
        "\n",
        "if K.image_data_format() == 'channels_first':\n",
        "    x_train = x_train.reshape(x_train.shape[0], 1, img_rows, img_cols)\n",
        "    x_test = x_test.reshape(x_test.shape[0], 1, img_rows, img_cols)\n",
        "    input_shape = (1, img_rows, img_cols)\n",
        "else:\n",
        "    x_train = x_train.reshape(x_train.shape[0], img_rows, img_cols, 1)\n",
        "    x_test = x_test.reshape(x_test.shape[0], img_rows, img_cols, 1)\n",
        "    input_shape = (img_rows, img_cols, 1)\n",
        "\n",
        "x_train = x_train.astype('float32')\n",
        "x_test = x_test.astype('float32')\n",
        "x_train /= 255\n",
        "x_test /= 255\n",
        "print('x_train shape:', x_train.shape)\n",
        "print(x_train.shape[0], 'train samples')\n",
        "print(x_test.shape[0], 'test samples')\n",
        "\n",
        "# convert class vectors to binary class matrices\n",
        "y_train = keras.utils.to_categorical(y_train, num_classes)\n",
        "y_test = keras.utils.to_categorical(y_test, num_classes)\n",
        "\n",
        "model = Sequential()\n",
        "#chnaged the kernel size to 5x5 in both the layers\n",
        "model.add(Conv2D(6, kernel_size=(5, 5),   \n",
        "                 activation='relu',\n",
        "                 input_shape=input_shape))\n",
        "model.add(MaxPooling2D(pool_size=(2, 2)))\n",
        "model.add(Conv2D(16, (5, 5), activation='relu'))\n",
        "model.add(MaxPooling2D(pool_size=(2, 2)))\n",
        "model.add(Flatten())\n",
        "model.add(Dense(120, activation='relu'))\n",
        "model.add(Dense(84, activation='relu'))\n",
        "\n",
        "model.add(Dense(num_classes, activation='softmax'))\n",
        "\n",
        "# https://keras.io/optimizers/ \n",
        "model.compile(loss=keras.losses.categorical_crossentropy,\n",
        "              optimizer=keras.optimizers.Adadelta(lr=0.1, rho=0.95, epsilon=None, decay=0.0),\n",
        "              metrics=['accuracy'])\n",
        "#saved the model in hist\n",
        "hist=model.fit(x_train, y_train,\n",
        "          batch_size=batch_size,\n",
        "          epochs=epochs,\n",
        "          verbose=1,\n",
        "          validation_data=(x_test, y_test))\n",
        "score = model.evaluate(x_test, y_test, verbose=0)\n",
        "fig=plt.figure()\n",
        "\n",
        "ax=plt.subplot(111)\n",
        "\n",
        "ax.plot((hist.history['loss']),label='Training ') #plotting training loss from hist\n",
        "\n",
        "ax.plot((hist.history['val_loss']),label='Testing ') #plotting testing loss from hist\n",
        "plt.xlabel('Epochs')\n",
        "plt.ylabel('Error')\n",
        "\n",
        "\n",
        "plt.title('Error plot')\n",
        "ax.legend()\n",
        "plt.show()\n",
        "print('Test loss:', score[0])\n",
        "print('Test accuracy:', score[1])\n"
      ],
      "execution_count": 10,
      "outputs": [
        {
          "output_type": "stream",
          "text": [
            "x_train shape: (60000, 28, 28, 1)\n",
            "60000 train samples\n",
            "10000 test samples\n",
            "Train on 60000 samples, validate on 10000 samples\n",
            "Epoch 1/12\n",
            "60000/60000 [==============================] - 23s 390us/step - loss: 0.8474 - acc: 0.7436 - val_loss: 0.2471 - val_acc: 0.9273\n",
            "Epoch 2/12\n",
            "60000/60000 [==============================] - 22s 369us/step - loss: 0.2267 - acc: 0.9324 - val_loss: 0.1816 - val_acc: 0.9454\n",
            "Epoch 3/12\n",
            "60000/60000 [==============================] - 22s 369us/step - loss: 0.1742 - acc: 0.9479 - val_loss: 0.1515 - val_acc: 0.9531\n",
            "Epoch 4/12\n",
            "60000/60000 [==============================] - 22s 369us/step - loss: 0.1478 - acc: 0.9555 - val_loss: 0.1248 - val_acc: 0.9620\n",
            "Epoch 5/12\n",
            "60000/60000 [==============================] - 22s 372us/step - loss: 0.1296 - acc: 0.9605 - val_loss: 0.1159 - val_acc: 0.9638\n",
            "Epoch 6/12\n",
            "60000/60000 [==============================] - 22s 368us/step - loss: 0.1162 - acc: 0.9641 - val_loss: 0.1014 - val_acc: 0.9678\n",
            "Epoch 7/12\n",
            "60000/60000 [==============================] - 22s 368us/step - loss: 0.1059 - acc: 0.9672 - val_loss: 0.0908 - val_acc: 0.9708\n",
            "Epoch 8/12\n",
            "60000/60000 [==============================] - 22s 368us/step - loss: 0.0975 - acc: 0.9694 - val_loss: 0.0816 - val_acc: 0.9742\n",
            "Epoch 9/12\n",
            "60000/60000 [==============================] - 22s 367us/step - loss: 0.0909 - acc: 0.9711 - val_loss: 0.0778 - val_acc: 0.9762\n",
            "Epoch 10/12\n",
            "60000/60000 [==============================] - 22s 368us/step - loss: 0.0853 - acc: 0.9735 - val_loss: 0.0729 - val_acc: 0.9770\n",
            "Epoch 11/12\n",
            "60000/60000 [==============================] - 22s 370us/step - loss: 0.0799 - acc: 0.9748 - val_loss: 0.0704 - val_acc: 0.9787\n",
            "Epoch 12/12\n",
            "60000/60000 [==============================] - 23s 378us/step - loss: 0.0758 - acc: 0.9763 - val_loss: 0.0688 - val_acc: 0.9780\n"
          ],
          "name": "stdout"
        },
        {
          "output_type": "display_data",
          "data": {
            "image/png": "[encoded data removed]",
            "text/plain": [
              "<Figure size 432x288 with 1 Axes>"
            ]
          },
          "metadata": {
            "tags": []
          }
        },
        {
          "output_type": "stream",
          "text": [
            "Test loss: 0.06875620720013977\n",
            "Test accuracy: 0.978\n"
          ],
          "name": "stdout"
        }
      ]
    },
    {
      "cell_type": "markdown",
      "metadata": {
        "id": "NFKFtU-AA6rb",
        "colab_type": "text"
      },
      "source": [
        ""
      ]
    },
    {
      "cell_type": "code",
      "metadata": {
        "id": "Y0Xg81dYAXLY",
        "colab_type": "code",
        "colab": {}
      },
      "source": [
        ""
      ],
      "execution_count": 0,
      "outputs": []
    },
    {
      "cell_type": "markdown",
      "metadata": {
        "id": "frazmSXrAXug",
        "colab_type": "text"
      },
      "source": [
        "CHANGING FEATURE MAPS AND BASIC KERNEL 3X3\n"
      ]
    },
    {
      "cell_type": "code",
      "metadata": {
        "id": "7xZZq5s9AgPf",
        "colab_type": "code",
        "colab": {
          "base_uri": "https://localhost:8080/",
          "height": 805
        },
        "outputId": "b3f098b2-dbe6-4102-e5ff-2ecf088e6303"
      },
      "source": [
        "import keras\n",
        "from keras.datasets import mnist\n",
        "from keras.models import Sequential\n",
        "from keras.layers import Dense, Dropout, Flatten\n",
        "from keras.layers import Conv2D, MaxPooling2D\n",
        "from keras import backend as K\n",
        "import matplotlib.pyplot as plt\n",
        "\n",
        "\n",
        "batch_size = 128\n",
        "num_classes = 10\n",
        "epochs = 12\n",
        "\n",
        "# input image dimensions\n",
        "img_rows, img_cols = 28, 28\n",
        "\n",
        "# the data, split between train and test sets\n",
        "(x_train, y_train), (x_test, y_test) = mnist.load_data()\n",
        "\n",
        "if K.image_data_format() == 'channels_first':\n",
        "    x_train = x_train.reshape(x_train.shape[0], 1, img_rows, img_cols)\n",
        "    x_test = x_test.reshape(x_test.shape[0], 1, img_rows, img_cols)\n",
        "    input_shape = (1, img_rows, img_cols)\n",
        "else:\n",
        "    x_train = x_train.reshape(x_train.shape[0], img_rows, img_cols, 1)\n",
        "    x_test = x_test.reshape(x_test.shape[0], img_rows, img_cols, 1)\n",
        "    input_shape = (img_rows, img_cols, 1)\n",
        "\n",
        "x_train = x_train.astype('float32')\n",
        "x_test = x_test.astype('float32')\n",
        "x_train /= 255\n",
        "x_test /= 255\n",
        "print('x_train shape:', x_train.shape)\n",
        "print(x_train.shape[0], 'train samples')\n",
        "print(x_test.shape[0], 'test samples')\n",
        "\n",
        "# convert class vectors to binary class matrices\n",
        "y_train = keras.utils.to_categorical(y_train, num_classes)\n",
        "y_test = keras.utils.to_categorical(y_test, num_classes)\n",
        "\n",
        "model = Sequential()\n",
        "#chaging the feature maps to 16 in first layer and 32 in second layer\n",
        "model.add(Conv2D(16, kernel_size=(3, 3),\n",
        "                 activation='relu',\n",
        "                 input_shape=input_shape))\n",
        "model.add(MaxPooling2D(pool_size=(2, 2)))\n",
        "model.add(Conv2D(32, (3, 3), activation='relu'))\n",
        "model.add(MaxPooling2D(pool_size=(2, 2)))\n",
        "model.add(Flatten())\n",
        "model.add(Dense(120, activation='relu'))\n",
        "model.add(Dense(84, activation='relu'))\n",
        "\n",
        "model.add(Dense(num_classes, activation='softmax'))\n",
        "\n",
        "# https://keras.io/optimizers/ \n",
        "model.compile(loss=keras.losses.categorical_crossentropy,\n",
        "              optimizer=keras.optimizers.Adadelta(lr=0.1, rho=0.95, epsilon=None, decay=0.0),\n",
        "              metrics=['accuracy'])\n",
        "\n",
        "hist=model.fit(x_train, y_train,\n",
        "          batch_size=batch_size,\n",
        "          epochs=epochs,\n",
        "          verbose=1,\n",
        "          validation_data=(x_test, y_test))\n",
        "score = model.evaluate(x_test, y_test, verbose=0)\n",
        "fig=plt.figure()\n",
        "\n",
        "ax=plt.subplot(111)\n",
        "\n",
        "ax.plot((hist.history['loss']),label='Training ') #plotting training loss from hist\n",
        "\n",
        "ax.plot((hist.history['val_loss']),label='Testing ')  #plotting testing loss from hist\n",
        "plt.xlabel('Epochs')\n",
        "plt.ylabel('Error')\n",
        "plt.title('Error plot')\n",
        "ax.legend()\n",
        "plt.show()\n",
        "print('Test loss:', score[0])\n",
        "print('Test accuracy:', score[1])\n"
      ],
      "execution_count": 13,
      "outputs": [
        {
          "output_type": "stream",
          "text": [
            "x_train shape: (60000, 28, 28, 1)\n",
            "60000 train samples\n",
            "10000 test samples\n",
            "Train on 60000 samples, validate on 10000 samples\n",
            "Epoch 1/12\n",
            "60000/60000 [==============================] - 28s 464us/step - loss: 0.7429 - acc: 0.7691 - val_loss: 0.2357 - val_acc: 0.9263\n",
            "Epoch 2/12\n",
            "60000/60000 [==============================] - 25s 425us/step - loss: 0.1980 - acc: 0.9394 - val_loss: 0.1524 - val_acc: 0.9557\n",
            "Epoch 3/12\n",
            "60000/60000 [==============================] - 25s 413us/step - loss: 0.1429 - acc: 0.9569 - val_loss: 0.1149 - val_acc: 0.9664\n",
            "Epoch 4/12\n",
            "60000/60000 [==============================] - 25s 423us/step - loss: 0.1144 - acc: 0.9657 - val_loss: 0.0951 - val_acc: 0.9712\n",
            "Epoch 5/12\n",
            "60000/60000 [==============================] - 25s 424us/step - loss: 0.0970 - acc: 0.9707 - val_loss: 0.0758 - val_acc: 0.9773\n",
            "Epoch 6/12\n",
            "60000/60000 [==============================] - 25s 422us/step - loss: 0.0857 - acc: 0.9744 - val_loss: 0.0726 - val_acc: 0.9763\n",
            "Epoch 7/12\n",
            "60000/60000 [==============================] - 25s 425us/step - loss: 0.0764 - acc: 0.9774 - val_loss: 0.0655 - val_acc: 0.9788\n",
            "Epoch 8/12\n",
            "60000/60000 [==============================] - 25s 423us/step - loss: 0.0701 - acc: 0.9785 - val_loss: 0.0619 - val_acc: 0.9782\n",
            "Epoch 9/12\n",
            "60000/60000 [==============================] - 26s 429us/step - loss: 0.0648 - acc: 0.9803 - val_loss: 0.0551 - val_acc: 0.9820\n",
            "Epoch 10/12\n",
            "60000/60000 [==============================] - 25s 419us/step - loss: 0.0610 - acc: 0.9817 - val_loss: 0.0526 - val_acc: 0.9830\n",
            "Epoch 11/12\n",
            "60000/60000 [==============================] - 26s 428us/step - loss: 0.0570 - acc: 0.9826 - val_loss: 0.0512 - val_acc: 0.9830\n",
            "Epoch 12/12\n",
            "60000/60000 [==============================] - 25s 423us/step - loss: 0.0535 - acc: 0.9835 - val_loss: 0.0502 - val_acc: 0.9828\n"
          ],
          "name": "stdout"
        },
        {
          "output_type": "display_data",
          "data": {
            "image/png": "[encoded data removed]",
            "text/plain": [
              "<Figure size 432x288 with 1 Axes>"
            ]
          },
          "metadata": {
            "tags": []
          }
        },
        {
          "output_type": "stream",
          "text": [
            "Test loss: 0.05015322856041603\n",
            "Test accuracy: 0.9828\n"
          ],
          "name": "stdout"
        }
      ]
    },
    {
      "cell_type": "markdown",
      "metadata": {
        "id": "LblP4gQ-A7ky",
        "colab_type": "text"
      },
      "source": [
        "CHANGING KERNEL SIZE AND feature maps"
      ]
    },
    {
      "cell_type": "code",
      "metadata": {
        "id": "SvWOUwJDBEBD",
        "colab_type": "code",
        "colab": {
          "base_uri": "https://localhost:8080/",
          "height": 789
        },
        "outputId": "ac366670-a0fd-47cf-cc61-8f63437e7736"
      },
      "source": [
        "import keras\n",
        "from keras.datasets import mnist\n",
        "from keras.models import Sequential\n",
        "from keras.layers import Dense, Dropout, Flatten\n",
        "from keras.layers import Conv2D, MaxPooling2D\n",
        "from keras import backend as K\n",
        "import matplotlib.pyplot as plt\n",
        "\n",
        "\n",
        "batch_size = 128\n",
        "num_classes = 10\n",
        "epochs = 12\n",
        "\n",
        "# input image dimensions\n",
        "img_rows, img_cols = 28, 28\n",
        "\n",
        "# the data, split between train and test sets\n",
        "(x_train, y_train), (x_test, y_test) = mnist.load_data()\n",
        "\n",
        "if K.image_data_format() == 'channels_first':\n",
        "    x_train = x_train.reshape(x_train.shape[0], 1, img_rows, img_cols)\n",
        "    x_test = x_test.reshape(x_test.shape[0], 1, img_rows, img_cols)\n",
        "    input_shape = (1, img_rows, img_cols)\n",
        "else:\n",
        "    x_train = x_train.reshape(x_train.shape[0], img_rows, img_cols, 1)\n",
        "    x_test = x_test.reshape(x_test.shape[0], img_rows, img_cols, 1)\n",
        "    input_shape = (img_rows, img_cols, 1)\n",
        "\n",
        "x_train = x_train.astype('float32')\n",
        "x_test = x_test.astype('float32')\n",
        "x_train /= 255\n",
        "x_test /= 255\n",
        "print('x_train shape:', x_train.shape)\n",
        "print(x_train.shape[0], 'train samples')\n",
        "print(x_test.shape[0], 'test samples')\n",
        "\n",
        "# convert class vectors to binary class matrices\n",
        "y_train = keras.utils.to_categorical(y_train, num_classes)\n",
        "y_test = keras.utils.to_categorical(y_test, num_classes)\n",
        "\n",
        "model = Sequential()\n",
        "#changing feature maps to 16 in 1st and 32 in second and changing the kernel size to 5x5 in both\n",
        "model.add(Conv2D(16, kernel_size=(5, 5),\n",
        "                 activation='relu',\n",
        "                 input_shape=input_shape))\n",
        "model.add(MaxPooling2D(pool_size=(2, 2)))\n",
        "model.add(Conv2D(32, (5, 5), activation='relu'))\n",
        "model.add(MaxPooling2D(pool_size=(2, 2)))\n",
        "model.add(Flatten())\n",
        "model.add(Dense(120, activation='relu'))\n",
        "model.add(Dense(84, activation='relu'))\n",
        "\n",
        "model.add(Dense(num_classes, activation='softmax'))\n",
        "\n",
        "# https://keras.io/optimizers/ \n",
        "model.compile(loss=keras.losses.categorical_crossentropy,\n",
        "              optimizer=keras.optimizers.Adadelta(lr=0.1, rho=0.95, epsilon=None, decay=0.0),\n",
        "              metrics=['accuracy'])\n",
        "#saved the model in hist\n",
        "hist=model.fit(x_train, y_train,\n",
        "          batch_size=batch_size,\n",
        "          epochs=epochs,\n",
        "          verbose=1,\n",
        "          validation_data=(x_test, y_test))\n",
        "score = model.evaluate(x_test, y_test, verbose=0)\n",
        "fig=plt.figure()\n",
        "\n",
        "ax=plt.subplot(111)\n",
        "\n",
        "ax.plot((hist.history['loss']),label='Training ') #plotting training loss from hist\n",
        "\n",
        "ax.plot((hist.history['val_loss']),label='Testing ')  #plotting testing loss from hist\n",
        "plt.xlabel('Epochs')\n",
        "plt.ylabel('Error')\n",
        "\n",
        "print('Test loss:', score[0])\n",
        "print('Test accuracy:', score[1])\n"
      ],
      "execution_count": 14,
      "outputs": [
        {
          "output_type": "stream",
          "text": [
            "x_train shape: (60000, 28, 28, 1)\n",
            "60000 train samples\n",
            "10000 test samples\n",
            "Train on 60000 samples, validate on 10000 samples\n",
            "Epoch 1/12\n",
            "60000/60000 [==============================] - 33s 550us/step - loss: 0.6685 - acc: 0.7970 - val_loss: 0.2080 - val_acc: 0.9377\n",
            "Epoch 2/12\n",
            "60000/60000 [==============================] - 31s 521us/step - loss: 0.1727 - acc: 0.9482 - val_loss: 0.1382 - val_acc: 0.9594\n",
            "Epoch 3/12\n",
            "60000/60000 [==============================] - 31s 522us/step - loss: 0.1250 - acc: 0.9629 - val_loss: 0.1047 - val_acc: 0.9685\n",
            "Epoch 4/12\n",
            "60000/60000 [==============================] - 31s 523us/step - loss: 0.1010 - acc: 0.9695 - val_loss: 0.0871 - val_acc: 0.9722\n",
            "Epoch 5/12\n",
            "60000/60000 [==============================] - 31s 520us/step - loss: 0.0867 - acc: 0.9748 - val_loss: 0.0705 - val_acc: 0.9788\n",
            "Epoch 6/12\n",
            "60000/60000 [==============================] - 31s 521us/step - loss: 0.0760 - acc: 0.9776 - val_loss: 0.0620 - val_acc: 0.9812\n",
            "Epoch 7/12\n",
            "60000/60000 [==============================] - 32s 527us/step - loss: 0.0684 - acc: 0.9798 - val_loss: 0.0569 - val_acc: 0.9823\n",
            "Epoch 8/12\n",
            "60000/60000 [==============================] - 31s 523us/step - loss: 0.0628 - acc: 0.9813 - val_loss: 0.0567 - val_acc: 0.9830\n",
            "Epoch 9/12\n",
            "60000/60000 [==============================] - 31s 518us/step - loss: 0.0580 - acc: 0.9827 - val_loss: 0.0508 - val_acc: 0.9846\n",
            "Epoch 10/12\n",
            "60000/60000 [==============================] - 31s 523us/step - loss: 0.0541 - acc: 0.9841 - val_loss: 0.0498 - val_acc: 0.9850\n",
            "Epoch 11/12\n",
            "60000/60000 [==============================] - 32s 530us/step - loss: 0.0506 - acc: 0.9850 - val_loss: 0.0475 - val_acc: 0.9859\n",
            "Epoch 12/12\n",
            "60000/60000 [==============================] - 31s 524us/step - loss: 0.0478 - acc: 0.9862 - val_loss: 0.0441 - val_acc: 0.9871\n",
            "Test loss: 0.04413080759318545\n",
            "Test accuracy: 0.9871\n"
          ],
          "name": "stdout"
        },
        {
          "output_type": "display_data",
          "data": {
            "image/png": "[encoded data removed]",
            "text/plain": [
              "<Figure size 432x288 with 1 Axes>"
            ]
          },
          "metadata": {
            "tags": []
          }
        }
      ]
    }
  ]
}